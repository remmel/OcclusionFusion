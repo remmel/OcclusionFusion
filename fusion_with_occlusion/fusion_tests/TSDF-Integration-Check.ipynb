{
 "cells": [
  {
   "cell_type": "markdown",
   "id": "3d468a06",
   "metadata": {},
   "source": [
    "# Visualize the tsdf \n",
    "Goal of the notebook\n",
    "1. space estimated by NNR \n",
    "2. Whether it can be passed as input for If-net"
   ]
  },
  {
   "cell_type": "code",
   "execution_count": 1,
   "id": "70451526",
   "metadata": {},
   "outputs": [],
   "source": [
    "%load_ext autoreload\n",
    "%autoreload 2"
   ]
  },
  {
   "cell_type": "code",
   "execution_count": 2,
   "id": "86487282",
   "metadata": {},
   "outputs": [],
   "source": [
    "import os\n",
    "import numpy as np\n",
    "import ipyvolume as ipv\n",
    "\n",
    "import sys \n",
    "sys.path.append(\"../\")\n",
    "sys.path.append(\"../../\")\n"
   ]
  },
  {
   "cell_type": "markdown",
   "id": "3839fe7e",
   "metadata": {},
   "source": [
    "### Plot tsdf output"
   ]
  },
  {
   "cell_type": "code",
   "execution_count": null,
   "id": "89781f95",
   "metadata": {},
   "outputs": [
    {
     "data": {
      "text/plain": [
       "array([[[0., 0., 0., ..., 0., 0., 0.],\n",
       "        [0., 0., 0., ..., 0., 0., 0.],\n",
       "        [0., 0., 0., ..., 0., 0., 0.],\n",
       "        ...,\n",
       "        [1., 1., 1., ..., 1., 1., 1.],\n",
       "        [1., 1., 1., ..., 1., 1., 1.],\n",
       "        [1., 1., 1., ..., 1., 1., 1.]],\n",
       "\n",
       "       [[0., 0., 0., ..., 0., 0., 0.],\n",
       "        [0., 0., 0., ..., 0., 0., 0.],\n",
       "        [0., 0., 0., ..., 0., 0., 0.],\n",
       "        ...,\n",
       "        [0., 0., 0., ..., 0., 0., 0.],\n",
       "        [0., 0., 0., ..., 0., 0., 0.],\n",
       "        [0., 0., 0., ..., 0., 0., 0.]],\n",
       "\n",
       "       [[0., 0., 0., ..., 0., 0., 0.],\n",
       "        [0., 0., 0., ..., 0., 0., 0.],\n",
       "        [0., 0., 0., ..., 0., 0., 0.],\n",
       "        ...,\n",
       "        [0., 0., 0., ..., 0., 0., 0.],\n",
       "        [0., 0., 0., ..., 0., 0., 0.],\n",
       "        [0., 0., 0., ..., 0., 0., 0.]],\n",
       "\n",
       "       ...,\n",
       "\n",
       "       [[1., 1., 1., ..., 1., 1., 1.],\n",
       "        [1., 1., 1., ..., 0., 0., 0.],\n",
       "        [0., 0., 0., ..., 0., 0., 0.],\n",
       "        ...,\n",
       "        [1., 1., 1., ..., 1., 1., 1.],\n",
       "        [1., 1., 1., ..., 1., 1., 1.],\n",
       "        [1., 1., 1., ..., 1., 1., 1.]],\n",
       "\n",
       "       [[0., 0., 0., ..., 0., 0., 0.],\n",
       "        [0., 0., 0., ..., 0., 0., 0.],\n",
       "        [0., 0., 0., ..., 0., 0., 0.],\n",
       "        ...,\n",
       "        [0., 0., 0., ..., 0., 0., 0.],\n",
       "        [0., 0., 0., ..., 0., 0., 0.],\n",
       "        [0., 0., 0., ..., 0., 0., 0.]],\n",
       "\n",
       "       [[0., 0., 0., ..., 0., 0., 0.],\n",
       "        [0., 0., 0., ..., 0., 0., 0.],\n",
       "        [0., 0., 0., ..., 0., 0., 0.],\n",
       "        ...,\n",
       "        [0., 0., 0., ..., 0., 0., 0.],\n",
       "        [0., 0., 0., ..., 0., 0., 0.],\n",
       "        [0., 0., 0., ..., 0., 0., 0.]]], dtype=float32)"
      ]
     },
     "execution_count": 3,
     "metadata": {},
     "output_type": "execute_result"
    }
   ],
   "source": [
    "tsdf_path = \"/media/srialien/2e32b92f-33a0-4f62-a89f-445621302f09/DeepDeform_Tests/dinoET_act2_cam2/results/tsdf/0.pkl\"\n",
    "import pickle \n",
    "with open(tsdf_path,\"rb\") as f: \n",
    "    data = pickle.load(f)\n",
    "tsdf_vol,color_vol,weight_vol = data\n",
    "from tsdf import TSDFVolume\n",
    "truncated_region = np.ones_like(tsdf_vol)\n",
    "TSDFVolume.compute_truncated_region(tsdf_vol,truncated_region,1.2)\n",
    "# ipv.quickvolshow(tsdf_vol,level=0,opacity=[1,1,1], level_width=0.1)"
   ]
  },
  {
   "cell_type": "code",
   "execution_count": null,
   "id": "7c5ecdab",
   "metadata": {},
   "outputs": [],
   "source": [
    "# from skimage import measure\n",
    "# verts = measure.marching_cubes(tsdf, level=0)[0]\n",
    "# ipv.scatter(verts[:,0],verts[:,1],verts[:,2])\n",
    "\n",
    "verts, faces, norms, vals = measure.marching_cubes(tsdf, level=0) \n",
    "ipv.plot_trisurf(verts[:,0],verts[:,1],verts[:,2],triangles=faces)"
   ]
  },
  {
   "cell_type": "markdown",
   "id": "1c7039d9",
   "metadata": {},
   "source": [
    "### Input to if-net"
   ]
  },
  {
   "cell_type": "code",
   "execution_count": null,
   "id": "27c9d232",
   "metadata": {},
   "outputs": [],
   "source": [
    "# if_net_input_datapath = \"/media/srialien/Elements/AT-Datasets/if-net\""
   ]
  },
  {
   "cell_type": "code",
   "execution_count": null,
   "id": "069947be",
   "metadata": {},
   "outputs": [],
   "source": [
    "# def load_xyz(filepath):\n",
    "#     with open(filepath,'r') as f: \n",
    "#         data = f.read().split('\\n')[1:]\n",
    "#         data = [ [float(x) for x in line.split()] for line in data if len(line) > 0]\n",
    "#     return np.array(data)\n",
    "\n",
    "# # Check the data\n",
    "# for file in os.listdir(if_net_input_datapath):\n",
    "#     print(file)\n",
    "#     if \"npz\" in file:\n",
    "#         data = np.load(os.path.join(if_net_input_datapath,file),allow_pickle=True)\n",
    "#         for k in data.keys():\n",
    "#             print(k,data[k].shape)\n",
    "#     if \"xyz\" in file: \n",
    "#         data = load_xyz(os.path.join(if_net_input_datapath,file))\n",
    "#         print(data.shape)\n",
    "\n",
    "# Load occupancy grid  \n",
    "# data = np.load(\"/media/srialien/Elements/AT-Datasets/if-net/voxelized_point_cloud_128res_1000points_incomplete_pc-0056_animals.npz\",allow_pickle=True)\n",
    "# V = data[\"compressed_wnum_occ\"].reshape([128]*3)     \n",
    "# V = V>0\n",
    "# print(V.min(),V.max())        \n",
    "# ipv.quickvolshow(V,opacity=0.03, level_width=0.1)"
   ]
  },
  {
   "cell_type": "code",
   "execution_count": null,
   "id": "1a2041da",
   "metadata": {},
   "outputs": [],
   "source": [
    "# Import modules \n",
    "from tsdf import TSDFVolume # Create main TSDF module where the 3D volume is stored\n",
    "from vis import get_visualizer # Visualizer \n",
    "from frame_loader import RGBDVideoLoader\n",
    "from embedded_deformation_graph import EDGraph # Create ED graph from mesh, depth image, tsdf \n",
    "from run_lepard import Lepard_runner # SceneFlow module \n",
    "from NonRigidICP.model.registration_fusion import Registration as PytorchRegistration\n",
    "from lepard.inference import Lepard\t\n",
    "from warpfield import WarpField # Connects ED Graph and TSDF/Mesh/Whatever needs to be deformed  \n",
    "from test_utils import Dict2Class"
   ]
  },
  {
   "cell_type": "code",
   "execution_count": null,
   "id": "9024e7ad",
   "metadata": {},
   "outputs": [],
   "source": [
    "# def test1(use_gpu=True): # Plot TSDF\n",
    "use_gpu = True\n",
    "fopt = Dict2Class({\"source_frame\":0,\\\n",
    "    \"gpu\":use_gpu,\"visualizer\":\"ipyvolume\",\\\n",
    "    \"datadir\": \"/media/srialien/Elements/AT-Datasets/DeepDeform/new_test/foxWDFS_Actions2_cam2\",\\\n",
    "    \"skip_rate\":15,\n",
    "    \"voxel_size\": 0.01,\n",
    "    \"voxel_dim\": None})\n",
    "vis = get_visualizer(fopt)\n",
    "\n",
    "frame_loader = RGBDVideoLoader(fopt.datadir)\n",
    "\n",
    "source_frame_data = frame_loader.get_source_data(fopt.source_frame)\n",
    "\n",
    "source_mask = source_frame_data[\"im\"][-1] > 0\n",
    "source_pcd = source_frame_data[\"im\"][3:,source_mask].T\n",
    "mask_indices = np.where(source_mask)\n",
    "bbox = [np.min(mask_indices[1]),np.min(mask_indices[0]),np.max(mask_indices[1]),np.max(mask_indices[0]),] # x_min, y_min, x_max,y_max\n",
    "\n",
    "\n",
    "# intrinsics\n",
    "cam_intr = np.eye(3)\n",
    "cam_intr[0, 0] = source_frame_data[\"intrinsics\"][0]\n",
    "cam_intr[1, 1] = source_frame_data[\"intrinsics\"][1]\n",
    "cam_intr[0, 2] = source_frame_data[\"intrinsics\"][2]\n",
    "cam_intr[1, 2] = source_frame_data[\"intrinsics\"][3]\n",
    "\n",
    "max_depth = source_frame_data[\"im\"][-1].max()\n",
    "\n",
    "# Create a new tsdf volume\n",
    "tsdf = TSDFVolume(bbox,max_depth+1, source_frame_data[\"intrinsics\"], fopt,vis)\n",
    "vis.tsdf = tsdf\n",
    "tsdf.integrate(source_frame_data)\n",
    "\n",
    "ipv.quickvolshow(tsdf.get_volume()[0],level=[0,0,0],data_min=-1, data_max=1)\n",
    "\n",
    "# abc = vis.plot_tsdf_volume()\n",
    "# test1()"
   ]
  },
  {
   "cell_type": "code",
   "execution_count": null,
   "id": "ce3c2d54",
   "metadata": {},
   "outputs": [],
   "source": [
    "asdsa = tsdf.get_volume()[0]\n",
    "asdsa.mean(),asdsa.min(),asdsa.max()"
   ]
  },
  {
   "cell_type": "code",
   "execution_count": null,
   "id": "959eabaa",
   "metadata": {},
   "outputs": [],
   "source": [
    "source_pcd.max(axis=0),source_pcd.min(axis=0)"
   ]
  },
  {
   "cell_type": "code",
   "execution_count": null,
   "id": "f95138f0",
   "metadata": {},
   "outputs": [],
   "source": [
    "bbox"
   ]
  },
  {
   "cell_type": "code",
   "execution_count": null,
   "id": "7c64c69e",
   "metadata": {},
   "outputs": [],
   "source": []
  }
 ],
 "metadata": {
  "kernelspec": {
   "display_name": "Python 3 (ipykernel)",
   "language": "python",
   "name": "python3"
  },
  "language_info": {
   "codemirror_mode": {
    "name": "ipython",
    "version": 3
   },
   "file_extension": ".py",
   "mimetype": "text/x-python",
   "name": "python",
   "nbconvert_exporter": "python",
   "pygments_lexer": "ipython3",
   "version": "3.7.9"
  }
 },
 "nbformat": 4,
 "nbformat_minor": 5
}
