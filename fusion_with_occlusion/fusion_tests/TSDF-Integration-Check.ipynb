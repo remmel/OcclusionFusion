{
 "cells": [
  {
   "cell_type": "markdown",
   "id": "3d468a06",
   "metadata": {},
   "source": [
    "# Visualize the tsdf \n",
    "Goal of the notebook\n",
    "1. space estimated by NNR \n",
    "2. Whether it can be passed as input for If-net"
   ]
  },
  {
   "cell_type": "code",
   "execution_count": 1,
   "id": "70451526",
   "metadata": {},
   "outputs": [],
   "source": [
    "%load_ext autoreload\n",
    "%autoreload 2"
   ]
  },
  {
   "cell_type": "code",
   "execution_count": 2,
   "id": "86487282",
   "metadata": {},
   "outputs": [],
   "source": [
    "import os\n",
    "import open3d as o3d\n",
    "import numpy as np\n",
    "import ipyvolume as ipv\n",
    "\n",
    "import sys \n",
    "sys.path.append(\"../\")\n",
    "sys.path.append(\"../../\")\n"
   ]
  },
  {
   "cell_type": "markdown",
   "id": "be1afd39",
   "metadata": {},
   "source": [
    "### Compare different TSDFVolume"
   ]
  },
  {
   "cell_type": "code",
   "execution_count": 14,
   "id": "445da1f4",
   "metadata": {},
   "outputs": [],
   "source": [
    "datadir = \"/media/srialien/Elements/AT-Datasets/DeepDeform/new_test/foxWDFS_Actions2_cam1/\"\n",
    "color = o3d.io.read_image(os.path.join(datadir,'color',\"0000.png\"))\n",
    "depth = o3d.io.read_image(os.path.join(datadir,'depth',\"0000.png\"))\n",
    "\n",
    "rgbd = o3d.geometry.RGBDImage.create_from_color_and_depth(\n",
    "    color, depth, depth_trunc=4.0, convert_rgb_to_intensity=False)\n",
    "\n",
    "camera = np.loadtxt(os.path.join(datadir,\"intrinsics.txt\"))\n",
    "camera = o3d.camera.PinholeCameraIntrinsic(512,500,*camera[ [0,1,0,1],[0,1,2,2]])\n",
    "\n",
    "vol_dim = 256\n",
    "voxel_size = 4/256\n",
    "o3d_volume = o3d.pipelines.integration.UniformTSDFVolume(vol_dim*voxel_size,\n",
    "vol_dim,\n",
    "0.4,\n",
    "o3d.pipelines.integration.TSDFVolumeColorType.RGB8,np.array([-1.5199234,-0.7890313,0.]))\n",
    "\n",
    "o3d_volume_scalable = o3d.pipelines.integration.ScalableTSDFVolume(voxel_length=4/512,sdf_trunc=0.04,\n",
    "color_type=o3d.pipelines.integration.TSDFVolumeColorType.RGB8)\n",
    "\n",
    "o3d_volume.integrate(\n",
    "    rgbd,\n",
    "    camera,\n",
    "    np.eye(4))\n",
    "\n",
    "o3d_volume_scalable.integrate(\n",
    "    rgbd,\n",
    "    camera,\n",
    "    np.eye(4))\n",
    "\n",
    "mesh_open3d = o3d_volume.extract_triangle_mesh()\n",
    "\n",
    "mesh_open3d_scalable = o3d_volume_scalable.extract_triangle_mesh()\n",
    "vertices = np.asarray(mesh_open3d_scalable.vertices)\n",
    "c_red = (0. / 255., 0 / 255., 0 / 255.)\n",
    "mesh_open3d_scalable.vertex_colors = o3d.utility.Vector3dVector(np.tile(np.array(c_red).reshape((1,3)),(vertices.shape[0],1)))"
   ]
  },
  {
   "cell_type": "code",
   "execution_count": 24,
   "id": "c6b9e305",
   "metadata": {},
   "outputs": [],
   "source": [
    "o3d.visualization.draw_geometries([mesh_open3d,mesh_open3d_scalable])"
   ]
  },
  {
   "cell_type": "code",
   "execution_count": 32,
   "id": "f13efc2b",
   "metadata": {},
   "outputs": [
    {
     "data": {
      "text/plain": [
       "(45469,)"
      ]
     },
     "execution_count": 32,
     "metadata": {},
     "output_type": "execute_result"
    }
   ],
   "source": [
    "ar = np.asarray(o3d_volume.extract_volume_tsdf())\n",
    "ar[ar<0].shape"
   ]
  },
  {
   "cell_type": "code",
   "execution_count": 22,
   "id": "f703d524",
   "metadata": {},
   "outputs": [
    {
     "data": {
      "text/plain": [
       "TriangleMesh with 11641 points and 20729 triangles."
      ]
     },
     "execution_count": 22,
     "metadata": {},
     "output_type": "execute_result"
    }
   ],
   "source": [
    "mesh_open3d_scalable "
   ]
  },
  {
   "cell_type": "markdown",
   "id": "3839fe7e",
   "metadata": {},
   "source": [
    "### Plot tsdf output"
   ]
  },
  {
   "cell_type": "code",
   "execution_count": 3,
   "id": "89781f95",
   "metadata": {},
   "outputs": [],
   "source": [
    "tsdf_path = \"/media/srialien/Elements/AT-Datasets/DeepDeform/new_test/foxWDFS_Actions2_cam1/results/tsdf/105.pkl\"\n",
    "import pickle \n",
    "with open(tsdf_path,\"rb\") as f: \n",
    "    data = pickle.load(f)\n",
    "tsdf_vol,color_vol,weight_vol = data\n",
    "# from tsdf import TSDFVolume\n",
    "# truncated_region = np.ones_like(tsdf_vol)\n",
    "# TSDFVolume.compute_truncated_region(tsdf_vol,truncated_region,1.2)\n",
    "# ipv.quickvolshow(tsdf_vol,level=0,opacity=[1,1,1], level_width=0.1)"
   ]
  },
  {
   "cell_type": "markdown",
   "id": "856752a6",
   "metadata": {},
   "source": [
    "## Use open3d UniformTSDF "
   ]
  },
  {
   "cell_type": "code",
   "execution_count": 33,
   "id": "3673ac47",
   "metadata": {},
   "outputs": [
    {
     "name": "stdout",
     "output_type": "stream",
     "text": [
      "[1. 1. 1. ... 1. 1. 1.]\n"
     ]
    }
   ],
   "source": [
    "inject_data = data[[0,2]].reshape(2,-1).T\n",
    "print(inject_data[inject_data!=0][::100])"
   ]
  },
  {
   "cell_type": "code",
   "execution_count": 11,
   "id": "795094fe",
   "metadata": {},
   "outputs": [],
   "source": [
    "inject_data = data[[0,2]].reshape(2,-1).T\n",
    "inject_data = o3d.utility.Vector2dVector()\n",
    "vol_dim = 256\n",
    "voxel_size = 4/256\n",
    "volume = o3d.pipelines.integration.UniformTSDFVolume(vol_dim*voxel_size,\n",
    "vol_dim,\n",
    "0.4,\n",
    "o3d.pipelines.integration.TSDFVolumeColorType.RGB8,np.array([-1.5199234,-0.7890313,0.]))\n",
    "volume.inject_volume_tsdf(inject_data) "
   ]
  },
  {
   "cell_type": "code",
   "execution_count": 12,
   "id": "f2a2dd46",
   "metadata": {},
   "outputs": [],
   "source": [
    "mesh = volume.extract_triangle_mesh()\n",
    "o3d.visualization.draw_geometries([mesh])"
   ]
  },
  {
   "cell_type": "code",
   "execution_count": 13,
   "id": "1249af24",
   "metadata": {},
   "outputs": [
    {
     "data": {
      "text/plain": [
       "TriangleMesh with 0 points and 0 triangles."
      ]
     },
     "execution_count": 13,
     "metadata": {},
     "output_type": "execute_result"
    }
   ],
   "source": [
    "mesh"
   ]
  },
  {
   "cell_type": "code",
   "execution_count": null,
   "id": "7c5ecdab",
   "metadata": {},
   "outputs": [],
   "source": [
    "# from skimage import measure\n",
    "# verts = measure.marching_cubes(tsdf, level=0)[0]\n",
    "# ipv.scatter(verts[:,0],verts[:,1],verts[:,2])\n",
    "\n",
    "verts, faces, norms, vals = measure.marching_cubes(tsdf, level=0) \n",
    "ipv.plot_trisurf(verts[:,0],verts[:,1],verts[:,2],triangles=faces)"
   ]
  },
  {
   "cell_type": "markdown",
   "id": "1c7039d9",
   "metadata": {},
   "source": [
    "### Input to if-net"
   ]
  },
  {
   "cell_type": "code",
   "execution_count": null,
   "id": "27c9d232",
   "metadata": {},
   "outputs": [],
   "source": [
    "# if_net_input_datapath = \"/media/srialien/Elements/AT-Datasets/if-net\""
   ]
  },
  {
   "cell_type": "code",
   "execution_count": null,
   "id": "069947be",
   "metadata": {},
   "outputs": [],
   "source": [
    "# def load_xyz(filepath):\n",
    "#     with open(filepath,'r') as f: \n",
    "#         data = f.read().split('\\n')[1:]\n",
    "#         data = [ [float(x) for x in line.split()] for line in data if len(line) > 0]\n",
    "#     return np.array(data)\n",
    "\n",
    "# # Check the data\n",
    "# for file in os.listdir(if_net_input_datapath):\n",
    "#     print(file)\n",
    "#     if \"npz\" in file:\n",
    "#         data = np.load(os.path.join(if_net_input_datapath,file),allow_pickle=True)\n",
    "#         for k in data.keys():\n",
    "#             print(k,data[k].shape)\n",
    "#     if \"xyz\" in file: \n",
    "#         data = load_xyz(os.path.join(if_net_input_datapath,file))\n",
    "#         print(data.shape)\n",
    "\n",
    "# Load occupancy grid  \n",
    "# data = np.load(\"/media/srialien/Elements/AT-Datasets/if-net/voxelized_point_cloud_128res_1000points_incomplete_pc-0056_animals.npz\",allow_pickle=True)\n",
    "# V = data[\"compressed_wnum_occ\"].reshape([128]*3)     \n",
    "# V = V>0\n",
    "# print(V.min(),V.max())        \n",
    "# ipv.quickvolshow(V,opacity=0.03, level_width=0.1)"
   ]
  },
  {
   "cell_type": "code",
   "execution_count": null,
   "id": "1a2041da",
   "metadata": {},
   "outputs": [],
   "source": [
    "# Import modules \n",
    "from tsdf import TSDFVolume # Create main TSDF module where the 3D volume is stored\n",
    "from vis import get_visualizer # Visualizer \n",
    "from frame_loader import RGBDVideoLoader\n",
    "from embedded_deformation_graph import EDGraph # Create ED graph from mesh, depth image, tsdf \n",
    "from run_lepard import Lepard_runner # SceneFlow module \n",
    "from NonRigidICP.model.registration_fusion import Registration as PytorchRegistration\n",
    "from lepard.inference import Lepard\t\n",
    "from warpfield import WarpField # Connects ED Graph and TSDF/Mesh/Whatever needs to be deformed  \n",
    "from test_utils import Dict2Class"
   ]
  },
  {
   "cell_type": "code",
   "execution_count": null,
   "id": "9024e7ad",
   "metadata": {},
   "outputs": [],
   "source": [
    "# def test1(use_gpu=True): # Plot TSDF\n",
    "use_gpu = True\n",
    "fopt = Dict2Class({\"source_frame\":0,\\\n",
    "    \"gpu\":use_gpu,\"visualizer\":\"ipyvolume\",\\\n",
    "    \"datadir\": \"/media/srialien/Elements/AT-Datasets/DeepDeform/new_test/foxWDFS_Actions2_cam2\",\\\n",
    "    \"skip_rate\":15,\n",
    "    \"voxel_size\": 0.01,\n",
    "    \"voxel_dim\": None})\n",
    "vis = get_visualizer(fopt)\n",
    "\n",
    "frame_loader = RGBDVideoLoader(fopt.datadir)\n",
    "\n",
    "source_frame_data = frame_loader.get_source_data(fopt.source_frame)\n",
    "\n",
    "source_mask = source_frame_data[\"im\"][-1] > 0\n",
    "source_pcd = source_frame_data[\"im\"][3:,source_mask].T\n",
    "mask_indices = np.where(source_mask)\n",
    "bbox = [np.min(mask_indices[1]),np.min(mask_indices[0]),np.max(mask_indices[1]),np.max(mask_indices[0]),] # x_min, y_min, x_max,y_max\n",
    "\n",
    "\n",
    "# intrinsics\n",
    "cam_intr = np.eye(3)\n",
    "cam_intr[0, 0] = source_frame_data[\"intrinsics\"][0]\n",
    "cam_intr[1, 1] = source_frame_data[\"intrinsics\"][1]\n",
    "cam_intr[0, 2] = source_frame_data[\"intrinsics\"][2]\n",
    "cam_intr[1, 2] = source_frame_data[\"intrinsics\"][3]\n",
    "\n",
    "max_depth = source_frame_data[\"im\"][-1].max()\n",
    "\n",
    "# Create a new tsdf volume\n",
    "tsdf = TSDFVolume(bbox,max_depth+1, source_frame_data[\"intrinsics\"], fopt,vis)\n",
    "vis.tsdf = tsdf\n",
    "tsdf.integrate(source_frame_data)\n",
    "\n",
    "ipv.quickvolshow(tsdf.get_volume()[0],level=[0,0,0],data_min=-1, data_max=1)\n",
    "\n",
    "# abc = vis.plot_tsdf_volume()\n",
    "# test1()"
   ]
  },
  {
   "cell_type": "code",
   "execution_count": null,
   "id": "ce3c2d54",
   "metadata": {},
   "outputs": [],
   "source": [
    "asdsa = tsdf.get_volume()[0]\n",
    "asdsa.mean(),asdsa.min(),asdsa.max()"
   ]
  },
  {
   "cell_type": "code",
   "execution_count": null,
   "id": "959eabaa",
   "metadata": {},
   "outputs": [],
   "source": [
    "source_pcd.max(axis=0),source_pcd.min(axis=0)"
   ]
  },
  {
   "cell_type": "code",
   "execution_count": null,
   "id": "f95138f0",
   "metadata": {},
   "outputs": [],
   "source": [
    "bbox"
   ]
  },
  {
   "cell_type": "code",
   "execution_count": null,
   "id": "7c64c69e",
   "metadata": {},
   "outputs": [],
   "source": []
  }
 ],
 "metadata": {
  "kernelspec": {
   "display_name": "Python 3 (ipykernel)",
   "language": "python",
   "name": "python3"
  },
  "language_info": {
   "codemirror_mode": {
    "name": "ipython",
    "version": 3
   },
   "file_extension": ".py",
   "mimetype": "text/x-python",
   "name": "python",
   "nbconvert_exporter": "python",
   "pygments_lexer": "ipython3",
   "version": "3.7.9"
  }
 },
 "nbformat": 4,
 "nbformat_minor": 5
}
